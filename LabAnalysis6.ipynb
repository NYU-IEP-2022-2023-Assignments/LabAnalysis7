{
  "nbformat": 4,
  "nbformat_minor": 0,
  "metadata": {
    "colab": {
      "provenance": [],
      "include_colab_link": true
    },
    "kernelspec": {
      "name": "python3",
      "display_name": "Python 3"
    },
    "language_info": {
      "name": "python"
    }
  },
  "cells": [
    {
      "cell_type": "markdown",
      "metadata": {
        "id": "view-in-github",
        "colab_type": "text"
      },
      "source": [
        "<a href=\"https://colab.research.google.com/github/NYU-IEP-2022-2023-Assignments/LabAnalysis6/blob/main/LabAnalysis6.ipynb\" target=\"_parent\"><img src=\"https://colab.research.google.com/assets/colab-badge.svg\" alt=\"Open In Colab\"/></a>"
      ]
    },
    {
      "cell_type": "markdown",
      "metadata": {
        "id": "RBFO6nTSr9p1"
      },
      "source": [
        "As in other assignments, run this first code block to import necessary libraries"
      ]
    },
    {
      "cell_type": "code",
      "metadata": {
        "id": "rl2JqjsMqXUV"
      },
      "source": [
        "# necessary libraries\n",
        "import numpy as np\n",
        "import matplotlib.pyplot as plt\n"
      ],
      "execution_count": null,
      "outputs": []
    },
    {
      "cell_type": "markdown",
      "metadata": {
        "id": "V4Zs3hMRD3Fj"
      },
      "source": [
        "#Create and upload your data array\n",
        "\n",
        "Create a spreadsheet (use google sheets, ms excel, whatever you want) duplicating the table in your lab book. Include a header row. Save the spreadsheet in tab delimited text format as lab6data.txt (Also save a copy in the native format - e.g. .xlsx for excel). If you use google sheets, download a \"tab separated value\" file then change the \".tsv\" extension to \".txt\"\n",
        "\n",
        "**Make sure you use a consistent unit for the energy** IE if the energy change is 2.14 mJ, you could either enter .00214 (units are Joules) or 2.14 (units are mJ) but use the same choice throughout. \n",
        "\n",
        "Upload this spreadsheet to your lab6-data-repository (https://github.com/NYU-IEP-2022-3-Classroom/lab6-data-repository-yourgithubname) archive on github\n",
        "\n",
        "Then change the line that starts !wget to use the correct repository name\n",
        "\n",
        "When you run this, you should see your data displayed"
      ]
    },
    {
      "cell_type": "code",
      "metadata": {
        "id": "T8CH_RWaGU7N"
      },
      "source": [
        "!wget -nc https://raw.githubusercontent.com/NYU-IEP-2022-3-Classroom/lab6-data-repository-yourgithubname/main/lab6data.txt\n",
        "!more lab6data.txt"
      ],
      "execution_count": null,
      "outputs": []
    },
    {
      "cell_type": "markdown",
      "metadata": {
        "id": "o9-yrTRqwKBW"
      },
      "source": [
        "#Load the data\n",
        "\n",
        "The load command below assumes you created the 11 columns listed in the lab handout in the order specified,  that the data file is named \"lab6data.txt\" and that there is one header row.  If that's not right, edit the line below to make it align with what you did. If you saved the data in csv (comma separated values), add the keywork argument `delimeter = ','` to the arguments of loadtxt. "
      ]
    },
    {
      "cell_type": "code",
      "metadata": {
        "id": "A6SwEzgLKDg0"
      },
      "source": [
        "phase, duration, avgnrg, numhalfcycles, elapsedtime, lifetime_s, lifetime_asq, deltanrg, coilnrg, nrgloss,coiladj  = np.loadtxt('lab6data.txt', skiprows = 1, unpack=True)"
      ],
      "execution_count": null,
      "outputs": []
    },
    {
      "cell_type": "markdown",
      "metadata": {
        "id": "N0bdfYhiLgcs"
      },
      "source": [
        "# Make a scatter plot of calculated coil energy vs calculated mechanical energy and fit the data to a line\n",
        "\n",
        "##Calibrations\n",
        "We'd like to know if there's a simple scaling relation between the measured electrical and mechanical energies. IE mechanical = a * electrical, where maybe a = 80%. Ideally, this scaling relation would represent a **calibration factor** -- i.e. it would exactly map the measured to true value. These kinds of calibrations are common in laboratory science.\n",
        "\n",
        "For instance, a common way to measure temperatures near room temperature is to use a device called a thermistor. These are very precise, but not accurate - they measure changes of tenths of a degree easily but can be off by a degree or two overall. So before using a thermistor, you calibrate it by measuring the temperature of an ice/water mixture (which you know to be 0C) and boiling water (which you know to be 100C), then apply a correction to all the measured values. \n",
        "\n",
        "##Calibrating your setup\n",
        "\n",
        "Let's see if we can find a simple relation between the amount of electrical energy you added to the bob and the amount of mechanical energy. \n",
        "\n",
        "the total electical energy the pico calculated is stored in `coilnrg`\n",
        "\n",
        "the change in the bob's energy is stored in `deltanrg`\n",
        "\n",
        "the calculated energy lost to damping is stored in `nrgloss`\n",
        "\n",
        "the mechanical energy imparted to the bob is the change in the bob's energy + the energy lost due to damping (for exaample, if you were putting in exactly what was needed to overcome damping, then the bob's energy change would be 0)\n",
        "\n",
        "1. Please make a scatter plot with the calculated electrical energy on the x-axis and the calculated energy imparted to the bob on the y-axis. Use blue dots. Don't connect the lines. Label the axes. Make sure you specify whether energy is in Joules or milliJoules, etc. \n",
        "\n",
        "Now we'd like to know if there's a simple scaling relation between the calculated electrical and mechanical energies. IE mechanical = a * electrical, where maybe a = 80%. \n",
        "\n",
        "`np.polyfit(x,y,1)` will fit the data to a line, but the intercept won't necessarily be through 0. Here physics tells us that if the electrical energy is 0, the mechanical energy added must also be 0. So we need to fit the line $y = a x$, not $y = a x + b$. Fortunately, this is a straightfoward problem. The least-squares solution is\n",
        "\n",
        "$a = \\frac{\\sum_i x_i y_i}{\\sum_i x_i^2}$\n",
        "\n",
        "2. Find the best (least-squares) fit for the scaling factor. Draw a black dashed line matching this fit through the data. Title the plot with the scaling factor.\n"
      ]
    },
    {
      "cell_type": "code",
      "metadata": {
        "id": "YH21p6r1QUzJ"
      },
      "source": [
        "## your answer here"
      ],
      "execution_count": null,
      "outputs": []
    },
    {
      "cell_type": "markdown",
      "metadata": {
        "id": "md_Iy1NGSTB4"
      },
      "source": [
        "#Make a scatter plot of calculated coil energy per $\\frac{1}{2}$ cycle vs calculated mechanical energy per $\\frac{1}{2}$ and fit the data to a line\n",
        "\n",
        "The same as above, but this time divide all the energies by the number of half cycles (`numhalfcycles`). \n"
      ]
    },
    {
      "cell_type": "code",
      "metadata": {
        "id": "cR1CUKJ4SmUr"
      },
      "source": [
        "## your answer here"
      ],
      "execution_count": null,
      "outputs": []
    },
    {
      "cell_type": "markdown",
      "metadata": {
        "id": "zYXcoJKYXc66"
      },
      "source": [
        "#Look for systematics\n",
        "\n",
        "If everything is going well, we wouldn't expect the scaling to depend on things like the size of the pulse or what fraction of the energy is lost to damping. \n",
        "\n",
        "1. remake the scatter plot above (per half cycle), including the fit line, but this time use a blue marker if the per energy pulse is above the median (top half) and a red marker if the per energy pulse is below the median (bottom half)\n",
        "\n",
        "2. Make a new figure. remake the scatter plot above (per half cycle), including the fit line, but this time use a blue marker if the ratio of energy loss to total energy change is above the median (top half) and a red marker if the per energy pulse is below he median (bottom half)\n",
        "\n",
        "hints: [you can use true/false arrays to index another array](https://numpy.org/doc/stable/user/basics.indexing.html#boolean-or-mask-index-arrays) For instance if x and y are numpy arrays of the same size, `y[x<10]` gives you all values of `y` for which `x < 10`.\n",
        "\n",
        "to calculate the median, use [np.median](https://numpy.org/doc/stable/reference/generated/numpy.median.html)\n",
        "\n"
      ]
    },
    {
      "cell_type": "code",
      "metadata": {
        "id": "ecFlgjZNY87y"
      },
      "source": [
        "## your code here"
      ],
      "execution_count": null,
      "outputs": []
    },
    {
      "cell_type": "markdown",
      "metadata": {
        "id": "DxCp1hzCY-ri"
      },
      "source": [
        "## Question - answer below\n",
        "\n",
        "Is there a pattern to either of these scatter plots? Is one data type consistently above the fit line and the other below it, or are they all spread out?"
      ]
    },
    {
      "cell_type": "markdown",
      "metadata": {
        "id": "HUpflwFNZMNL"
      },
      "source": [
        "#Plot the residuals\n",
        "\n",
        "Make the scatter plot per half cycle again, but this time subtract the linear fit from the y-data. So you should have a plot of $(x, y-ax)$ where $x$ is the calculated electrical energy, $y$ is the calculated mechanical energy added, and $a$ is the best-fit scaling factor"
      ]
    },
    {
      "cell_type": "code",
      "metadata": {
        "id": "qjxkZwkxaKps"
      },
      "source": [
        "## your code here"
      ],
      "execution_count": null,
      "outputs": []
    },
    {
      "cell_type": "markdown",
      "metadata": {
        "id": "oJcKnq-SaM26"
      },
      "source": [
        "#Make a histogram of fractional error\n",
        "\n",
        "1. Make a histogram of the fractional error: $\\frac{y - ax}{y}$, where $x$ is the calculated electrical energy, $y$ is the calculated mechanical energy added, and $a$ is the best-fit scaling factor\n",
        "\n",
        "2. Calculate the root mean square fractional error (that is $\\sqrt{\\frac{1}{N}\\sum_i (\\frac{y_i - ax_i}{y_i})^2}$. Why did I tell you to use this instead of the standard deviation? What's the difference? "
      ]
    },
    {
      "cell_type": "code",
      "metadata": {
        "id": "Trl2MEL8bGnW"
      },
      "source": [
        "##your answer here"
      ],
      "execution_count": null,
      "outputs": []
    },
    {
      "cell_type": "markdown",
      "metadata": {
        "id": "oUQ4zUtGbw6F"
      },
      "source": [
        "answer \"Why did I tell you to use this instead of the standard deviation? What's the difference?\" here: \n",
        "\n"
      ]
    },
    {
      "cell_type": "markdown",
      "metadata": {
        "id": "xrYDF4lGbJCW"
      },
      "source": [
        "# Analysis\n",
        "\n",
        "1. Can the electrical energy be used to measure the mechanical energy imparted to the bob?\n",
        "2. How accurately do you think we can estimate the amount of energy added? What limits this accuracy?\n",
        "3. Do you see any evidence of systematic errors? If so, what do you see? What might you do to correct these? "
      ]
    }
  ]
}